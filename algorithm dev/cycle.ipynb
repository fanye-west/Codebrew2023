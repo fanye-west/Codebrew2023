{
 "cells": [
  {
   "cell_type": "code",
   "execution_count": 18,
   "metadata": {},
   "outputs": [],
   "source": [
    "import numpy as np\n",
    "import pandas as pd\n",
    "# import matplotlib.pyplot as plt\n",
    "import datetime\n",
    "import pandas as pd"
   ]
  },
  {
   "cell_type": "code",
   "execution_count": 19,
   "metadata": {},
   "outputs": [
    {
     "name": "stderr",
     "output_type": "stream",
     "text": [
      "/var/folders/7y/n60x2q013_nb9vnqy1l_xyw80000gn/T/ipykernel_44495/134876702.py:5: FutureWarning: The pandas.datetime class is deprecated and will be removed from pandas in a future version. Import from datetime module instead.\n",
      "  dateparse = lambda x: pd.datetime.strptime(x, '%d/%m/%y')\n"
     ]
    }
   ],
   "source": [
    "# get dates\n",
    "today_datetime = datetime.datetime.now()\n",
    "today = today_datetime.date()\n",
    "past_30_days = today_datetime - datetime.timedelta(days=30)\n",
    "dateparse = lambda x: pd.datetime.strptime(x, '%d/%m/%y')\n",
    "\n",
    "# read csv into df\n",
    "df = pd.read_csv('data.csv', parse_dates=['date'], date_parser=dateparse)\n"
   ]
  },
  {
   "cell_type": "code",
   "execution_count": 29,
   "metadata": {},
   "outputs": [],
   "source": [
    "# Input data\n",
    "\"\"\"\n",
    "gender = \"f\"\n",
    "age = 24 # years\n",
    "height = 167 # cm\n",
    "weight = 60 # kg\n",
    "training_days = 2 # number of days a week they train\n",
    "training_time = 3 # hrs a week you can spend training\n",
    "bpm = 125\n",
    "power = 220 # average watts\n",
    "route_gradient = [3, 6, 10, 8, 9, 5, 2, 0, 0, -2,\n",
    "                  -5, -7, -5, -1, 0, 2, 1, 3, 5, 2]\n",
    "route_speed = [12, 8, 6, 7, 6, 9, 13, 16, 17, 20,\n",
    "               24, 28, 25, 20, 17, 14, 15, 12, 9, 13]\n",
    "\"\"\"\n",
    "\n",
    "# constants\n",
    "# highest possible average power output\n",
    "POWER_MAX_AVG = 500 # watts\n",
    "\n",
    "def calc(df):\n",
    "    # extract variables\n",
    "    gender = df.iloc[0]['gender']\n",
    "    age = df.iloc[0]['age']\n",
    "    height = df.iloc[0]['height']\n",
    "    weight = df.iloc[0]['weight']\n",
    "    training_days = df.iloc[0]['training_days']\n",
    "    training_time = df.iloc[0]['training_time']\n",
    "    bpm = df.iloc[0]['bpm']\n",
    "    power = df.iloc[0]['power']\n",
    "\n",
    "    # ideal bpm\n",
    "    bpm_ideal = (220 - age)*0.6\n",
    "\n",
    "    # basal metabolic rate\n",
    "    if gender == \"m\":\n",
    "        bmr = 10*weight + 6.25*height - 5*age + 5\n",
    "    else:\n",
    "        bmr = 10*weight + 6.25*height - 5*age - 161\n",
    "\n",
    "    # physical activitiy level\n",
    "    if training_days == 0:\n",
    "        pal = 1.2\n",
    "    elif training_days >=1 and training_days <=3:\n",
    "        pal = 1.375\n",
    "    elif training_days >= 4 and training_days <=5:\n",
    "        pal = 1.55\n",
    "    else:\n",
    "        pal = 1.725\n",
    "\n",
    "    # maintanence calories\n",
    "    calories = bmr*pal\n",
    "\n",
    "    # ideal speed for gradient of slope\n",
    "    speed_avg = sum(route_speed) / len(route_speed)\n",
    "    speed_list = [speed_avg*(1-gradient/100*0.33) for gradient in route_gradient]\n",
    "\n",
    "    # average power ratio\n",
    "    power_ratio = power / POWER_MAX_AVG\n",
    "    power_diff = power_ratio - 1\n",
    "    power_perc = power_ratio\n",
    "\n",
    "    # cardio fitness ratio\n",
    "    bpm_ratio = bpm / bpm_ideal\n",
    "    bpm_diff = 1 - bpm_ratio\n",
    "    bpm_perc = 100-(bpm_ratio-1)*100\n",
    "    print(power_perc)\n",
    "    print(bpm_perc)\n",
    "\n",
    "    # calculate percentage focus on power and cardio\n",
    "    total = abs(power_diff + bpm_diff)\n",
    "    power_percent = abs(power_diff) / total\n",
    "    bpm_percent = abs(bpm_diff) / total\n",
    "    print(power_percent)\n",
    "    print(bpm_percent)\n",
    "    # number of hours a week spending on power training\n",
    "    power_training = power_percent*training_time\n",
    "    # number of hours a week spending on cardio training\n",
    "    cardio_training = bpm_percent*training_time\n",
    "\n",
    "    if power_percent > bpm_percent:\n",
    "        bottleneck = \"power\"\n",
    "    else:\n",
    "        bottleneck = \"cardio\"\n",
    "\n",
    "    print(f\"At the moment {bottleneck} is your weakest attribute\\n\\\n",
    "    To reach optimal performance, spend {power_training:.2f} hours a week on power training\\n\\\n",
    "    and {cardio_training:.2f} hours a week on cardio training\")\n",
    "\n",
    "    print(f\"The amount of calories you should be eating everyday for your activity level is {calories:.2f} calories\")\n",
    "    return"
   ]
  },
  {
   "cell_type": "code",
   "execution_count": 30,
   "metadata": {},
   "outputs": [
    {
     "name": "stdout",
     "output_type": "stream",
     "text": [
      "0.5\n",
      "-4.761904761904756\n",
      "1.1052631578947367\n",
      "0.1052631578947367\n",
      "At the moment power is your weakest attribute\n",
      "    To reach optimal performance, spend 3.32 hours a week on power training\n",
      "    and 0.32 hours a week on cardio training\n",
      "The amount of calories you should be eating everyday for your activity level is 1873.78 calories\n"
     ]
    }
   ],
   "source": [
    "calc(df)"
   ]
  },
  {
   "cell_type": "code",
   "execution_count": 28,
   "metadata": {},
   "outputs": [
    {
     "name": "stdout",
     "output_type": "stream",
     "text": [
      "239.125\n",
      "119.875\n"
     ]
    }
   ],
   "source": [
    "# calculate the averages over past 30 days\n",
    "\n",
    "# filter df for rows from past 30 days\n",
    "df_filtered = df[df['date'].between(str(past_30_days), str(today_datetime))]\n",
    "\n",
    "# calculate averages\n",
    "power_30_day_avg = df_filtered['power'].mean()\n",
    "bpm_30_day_avg = df_filtered['bpm'].mean()\n",
    "\n",
    "print(power_30_day_avg)\n",
    "print(bpm_30_day_avg)\n",
    "\n",
    "\n",
    "# # graph power\n",
    "# plt.figure(figsize=(10,6))\n",
    "# plt.bar(df_filtered['date'], df_filtered['power'], color = 'green')\n",
    "\n",
    "# # line of best fit\n",
    "# x = np.array(range(len(df_filtered)))\n",
    "# y = df_filtered['power']\n",
    "# coefficients = np.polyfit(x, y, 1)\n",
    "# plt.plot(df_filtered['date'], np.polyval(coefficients, x), color='black')\n",
    "\n",
    "# plt.xlabel('Date', fontsize=14)\n",
    "# plt.ylabel('Power', fontsize=14)\n",
    "# plt.xticks(rotation=45, fontsize=12)\n",
    "# plt.yticks(fontsize=12)\n",
    "# plt.title('Average Power over past 30 days', fontsize=16)\n",
    "# plt.show()\n",
    "\n",
    "\n",
    "\n",
    "# # graph bpm\n",
    "# plt.figure(figsize=(10,6))\n",
    "# plt.bar(df_filtered['date'], df_filtered['bpm'], color = 'green')\n",
    "\n",
    "# # line of best fit\n",
    "# x = np.array(range(len(df_filtered)))\n",
    "# y = df_filtered['bpm']\n",
    "# coefficients = np.polyfit(x, y, 1)\n",
    "# plt.plot(df_filtered['date'], np.polyval(coefficients, x), color='black')\n",
    "\n",
    "# plt.xlabel('Date', fontsize=14)\n",
    "# plt.ylabel('BPM', fontsize=14)\n",
    "# plt.xticks(rotation=45, fontsize=12)\n",
    "# plt.yticks(fontsize=12)\n",
    "# plt.title('Average BPM over past 30 days', fontsize=16)\n",
    "# plt.show()\n"
   ]
  },
  {
   "cell_type": "code",
   "execution_count": null,
   "metadata": {},
   "outputs": [],
   "source": [
    "# calorie intake\n"
   ]
  }
 ],
 "metadata": {
  "kernelspec": {
   "display_name": "base",
   "language": "python",
   "name": "python3"
  },
  "language_info": {
   "codemirror_mode": {
    "name": "ipython",
    "version": 3
   },
   "file_extension": ".py",
   "mimetype": "text/x-python",
   "name": "python",
   "nbconvert_exporter": "python",
   "pygments_lexer": "ipython3",
   "version": "3.9.13"
  },
  "orig_nbformat": 4
 },
 "nbformat": 4,
 "nbformat_minor": 2
}
