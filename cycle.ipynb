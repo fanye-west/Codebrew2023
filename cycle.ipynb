{
 "cells": [
  {
   "cell_type": "code",
   "execution_count": 3,
   "metadata": {},
   "outputs": [],
   "source": [
    "import numpy as np\n",
    "import pandas as pd\n",
    "import matplotlib.pyplot as plt"
   ]
  },
  {
   "cell_type": "code",
   "execution_count": 62,
   "metadata": {},
   "outputs": [
    {
     "name": "stdout",
     "output_type": "stream",
     "text": [
      "[14.405955, 14.26191, 14.06985, 14.165880000000001, 14.117865000000002, 14.309925000000002, 14.45397, 14.55, 14.55, 14.64603, 14.790075, 14.886104999999999, 14.790075, 14.598015000000002, 14.55, 14.45397, 14.501985000000001, 14.405955, 14.309925000000002, 14.45397]\n",
      "At the moment power is your weakest attribute\n",
      "To reach optimal performance, spend 2.70 hours a week on power training\n",
      "and 0.30 hours a week on cardio training\n",
      "The amount of calories you should be eating everyday for your activity level is 2377.03 calories\n"
     ]
    }
   ],
   "source": [
    "# Input data\n",
    "gender = \"m\"\n",
    "age = 24 # years\n",
    "height = 175 # cm\n",
    "weight = 75 # kg\n",
    "training_days = 3 # number of days a week they train\n",
    "training_time = 3 # hrs a weak you can spend training\n",
    "bpm = 125\n",
    "power = 220 # average watts\n",
    "route_gradient = [3, 6, 10, 8, 9, 5, 2, 0, 0, -2,\n",
    "                  -5, -7, -5, -1, 0, 2, 1, 3, 5, 2]\n",
    "route_speed = [12, 8, 6, 7, 6, 9, 13, 16, 17, 20,\n",
    "               24, 28, 25, 20, 17, 14, 15, 12, 9, 13]\n",
    "\n",
    "# constants\n",
    "# highest possible average power output\n",
    "POWER_MAX_AVG = 500 # watts\n",
    "\n",
    "# ideal bpm\n",
    "bpm_ideal = (220 - age)*0.6\n",
    "\n",
    "# basal metabolic rate\n",
    "if gender == \"m\":\n",
    "    bmr = 10*weight + 6.25*height - 5*age + 5\n",
    "else:\n",
    "    bmr = 10*weight + 6.25*height - 5*age - 161\n",
    "\n",
    "# physical activitiy level\n",
    "if training_days == 0:\n",
    "    pal = 1.2\n",
    "elif training_days >=1 and training_days <=3:\n",
    "    pal = 1.375\n",
    "elif training_days >= 4 and training_days <=5:\n",
    "    pal = 1.55\n",
    "else:\n",
    "    pal = 1.725\n",
    "\n",
    "# maintanence calories\n",
    "calories = bmr*pal\n",
    "\n",
    "# ideal speed for gradient of slope\n",
    "speed_avg = sum(route_speed) / len(route_speed)\n",
    "speed_list = [speed_avg*(1-gradient/100*0.33) for gradient in route_gradient]\n",
    "\n",
    "print(speed_list)\n",
    "\n",
    "# average power ratio\n",
    "power_ratio = power / POWER_MAX_AVG\n",
    "power_diff = power_ratio - 1\n",
    "\n",
    "# cardio fitness ratio\n",
    "bpm_ratio = bpm / bpm_ideal\n",
    "bpm_diff = 1 - bpm_ratio\n",
    "\n",
    "\n",
    "# calculate percentage focus on power and cardio\n",
    "total = abs(power_diff + bpm_diff)\n",
    "power_percent = abs(power_diff) / total\n",
    "bpm_percent = abs(bpm_diff) / total\n",
    "\n",
    "# number of hours a week spending on power training\n",
    "power_training = power_percent*training_time\n",
    "# number of hours a week spending on cardio training\n",
    "cardio_training = bpm_percent*training_time\n",
    "\n",
    "if power_percent > bpm_percent:\n",
    "    bottleneck = \"power\"\n",
    "else:\n",
    "    bottleneck = \"cardio\"\n",
    "\n",
    "print(f\"At the moment {bottleneck} is your weakest attribute\\n\\\n",
    "To reach optimal performance, spend {power_training:.2f} hours a week on power training\\n\\\n",
    "and {cardio_training:.2f} hours a week on cardio training\")\n",
    "\n",
    "print(f\"The amount of calories you should be eating everyday for your activity level is {calories:.2f} calories\")"
   ]
  },
  {
   "attachments": {},
   "cell_type": "markdown",
   "metadata": {},
   "source": [
    "ml model\n",
    "attributes: \n",
    "\n",
    "hard code in values for strength, cardio bpm and refuel\n",
    "\n",
    "refuel"
   ]
  }
 ],
 "metadata": {
  "kernelspec": {
   "display_name": "base",
   "language": "python",
   "name": "python3"
  },
  "language_info": {
   "codemirror_mode": {
    "name": "ipython",
    "version": 3
   },
   "file_extension": ".py",
   "mimetype": "text/x-python",
   "name": "python",
   "nbconvert_exporter": "python",
   "pygments_lexer": "ipython3",
   "version": "3.9.13"
  },
  "orig_nbformat": 4
 },
 "nbformat": 4,
 "nbformat_minor": 2
}
